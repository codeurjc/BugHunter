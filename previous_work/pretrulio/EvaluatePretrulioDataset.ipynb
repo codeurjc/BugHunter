{
 "cells": [
  {
   "cell_type": "code",
   "execution_count": 1,
   "id": "dde6f2b7",
   "metadata": {},
   "outputs": [],
   "source": [
    "import pandas as pd\n",
    "import os\n",
    "import sys\n",
    "from datetime import datetime\n",
    "import csv\n",
    "import concurrent.futures\n",
    "import subprocess\n",
    "from datetime import datetime"
   ]
  },
  {
   "cell_type": "markdown",
   "id": "3c34261f",
   "metadata": {},
   "source": [
    "Dataset of work \"SZZ in the time of Pull Requests\" \n",
    "- SOURCE: https://github.com/mozilla/regressors-regressions-dataset"
   ]
  },
  {
   "cell_type": "code",
   "execution_count": 2,
   "id": "c9399bb4",
   "metadata": {},
   "outputs": [],
   "source": [
    "# Clone Repository\n",
    "# !hg clone https://hg.mozilla.org/mozilla-central/"
   ]
  },
  {
   "cell_type": "code",
   "execution_count": 3,
   "id": "0d69c29c",
   "metadata": {},
   "outputs": [],
   "source": [
    "# Download dataset\n",
    "# !wget https://raw.githubusercontent.com/mozilla/regressors-regressions-dataset/main/dataset.csv"
   ]
  },
  {
   "cell_type": "code",
   "execution_count": 4,
   "id": "a458f82a",
   "metadata": {},
   "outputs": [],
   "source": [
    "def getRevisionId(commit_hash):\n",
    "    return subprocess.getoutput(\"cd firefox-source && hg id -n -r \"+commit_hash)"
   ]
  },
  {
   "cell_type": "code",
   "execution_count": 5,
   "id": "fc3bf181",
   "metadata": {},
   "outputs": [],
   "source": [
    "def calculateDistanceCommits(bfc,bic):\n",
    "    aux= bic + \"::\" + bfc\n",
    "    distance = subprocess.getoutput(\"cd firefox-source && hg log --rev \"+aux+\" --template \\\"{rev} \\\" | wc -w\")\n",
    "    return int(distance)"
   ]
  },
  {
   "cell_type": "code",
   "execution_count": 6,
   "id": "0712e216",
   "metadata": {},
   "outputs": [],
   "source": [
    "def getDate(c_id):\n",
    "    date = subprocess.getoutput(\"cd firefox-source && hg log -r \"+c_id+\" --template \\\"{date|date}\\n\\\"\")\n",
    "    return datetime.strptime(date, \"%a %b %d %H:%M:%S %Y %z\")\n",
    "def calculateDistanceDays(bfc_id,bic_id):\n",
    "    bfc_date = getDate(bfc_id)\n",
    "    bic_date = getDate(bic_id)\n",
    "    return (bfc_date-bic_date).days"
   ]
  },
  {
   "cell_type": "code",
   "execution_count": 7,
   "id": "3619dc3b",
   "metadata": {},
   "outputs": [],
   "source": [
    "def addDistances(link):\n",
    "    bfc = link['FIX_COMMITS_MERCURIAL'].split(\" \")[0]\n",
    "    bfc_id = getRevisionId(bfc)\n",
    "    if isinstance(link['BUG_COMMITS_MERCURIAL'], str):\n",
    "        bics = link['BUG_COMMITS_MERCURIAL'].split(\" \")\n",
    "        commits_sum = 0\n",
    "        days_sum = 0\n",
    "        for bic in bics:\n",
    "            bic_id = getRevisionId(bic)\n",
    "            commits_sum += calculateDistanceCommits(bfc, bic)\n",
    "            days_sum += calculateDistanceDays(bfc_id,bic_id)\n",
    "        link['DISTANCE_COMMITS'] = commits_sum / len(bics)\n",
    "        link['DISTANCE_DAYS'] = days_sum / len(bics)\n",
    "        link['CALCULABLE_DISTANCE'] = True\n",
    "    else:\n",
    "        link['CALCULABLE_DISTANCE'] = False\n",
    "        return"
   ]
  },
  {
   "cell_type": "code",
   "execution_count": 8,
   "id": "4cd7fc2c",
   "metadata": {},
   "outputs": [
    {
     "data": {
      "text/plain": [
       "4146"
      ]
     },
     "execution_count": 8,
     "metadata": {},
     "output_type": "execute_result"
    }
   ],
   "source": [
    "df = pd.read_csv('dataset.csv')\n",
    "links = df[df['NO_BUG']==False].to_dict('records')\n",
    "filtered_links = []\n",
    "links_with_more_tha_one_bfc=0\n",
    "for link in links:\n",
    "    bfcs = link['FIX_COMMITS_GIT'].split(\" \")\n",
    "    if len(bfcs) > 1:\n",
    "        links_with_more_tha_one_bfc+=1\n",
    "        continue\n",
    "    filtered_links.append(link)\n",
    "len(filtered_links)"
   ]
  },
  {
   "cell_type": "code",
   "execution_count": 9,
   "id": "37658edf",
   "metadata": {},
   "outputs": [
    {
     "data": {
      "text/plain": [
       "45"
      ]
     },
     "execution_count": 9,
     "metadata": {},
     "output_type": "execute_result"
    }
   ],
   "source": [
    "len(df[df['NO_BUG']==True])"
   ]
  },
  {
   "cell_type": "code",
   "execution_count": 10,
   "id": "034a62c8",
   "metadata": {},
   "outputs": [
    {
     "data": {
      "text/plain": [
       "1157"
      ]
     },
     "execution_count": 10,
     "metadata": {},
     "output_type": "execute_result"
    }
   ],
   "source": [
    "links_with_more_tha_one_bfc"
   ]
  },
  {
   "cell_type": "code",
   "execution_count": 11,
   "id": "511f845b",
   "metadata": {},
   "outputs": [],
   "source": [
    "future_results = []\n",
    "with concurrent.futures.ThreadPoolExecutor(64) as executor:\n",
    "    for link in filtered_links:\n",
    "        future = executor.submit(addDistances, link)\n",
    "        future_results.append(future)\n",
    "for future in future_results:\n",
    "    try:\n",
    "        future.result() \n",
    "    except Exception as e:\n",
    "        print(e)"
   ]
  },
  {
   "cell_type": "code",
   "execution_count": 12,
   "id": "2065eb01",
   "metadata": {},
   "outputs": [
    {
     "data": {
      "text/html": [
       "<div>\n",
       "<style scoped>\n",
       "    .dataframe tbody tr th:only-of-type {\n",
       "        vertical-align: middle;\n",
       "    }\n",
       "\n",
       "    .dataframe tbody tr th {\n",
       "        vertical-align: top;\n",
       "    }\n",
       "\n",
       "    .dataframe thead th {\n",
       "        text-align: right;\n",
       "    }\n",
       "</style>\n",
       "<table border=\"1\" class=\"dataframe\">\n",
       "  <thead>\n",
       "    <tr style=\"text-align: right;\">\n",
       "      <th></th>\n",
       "      <th>count</th>\n",
       "      <th>mean</th>\n",
       "      <th>std</th>\n",
       "      <th>min</th>\n",
       "      <th>25%</th>\n",
       "      <th>50%</th>\n",
       "      <th>75%</th>\n",
       "      <th>max</th>\n",
       "    </tr>\n",
       "  </thead>\n",
       "  <tbody>\n",
       "    <tr>\n",
       "      <th>DISTANCE_COMMITS</th>\n",
       "      <td>4146.0</td>\n",
       "      <td>14254.044058</td>\n",
       "      <td>39993.010694</td>\n",
       "      <td>0.0</td>\n",
       "      <td>664.0</td>\n",
       "      <td>2348.5</td>\n",
       "      <td>10171.886364</td>\n",
       "      <td>514394.0</td>\n",
       "    </tr>\n",
       "    <tr>\n",
       "      <th>DISTANCE_DAYS</th>\n",
       "      <td>4146.0</td>\n",
       "      <td>97.319502</td>\n",
       "      <td>316.922457</td>\n",
       "      <td>-647.0</td>\n",
       "      <td>4.5</td>\n",
       "      <td>15.0</td>\n",
       "      <td>68.000000</td>\n",
       "      <td>9195.5</td>\n",
       "    </tr>\n",
       "  </tbody>\n",
       "</table>\n",
       "</div>"
      ],
      "text/plain": [
       "                   count          mean           std    min    25%     50%  \\\n",
       "DISTANCE_COMMITS  4146.0  14254.044058  39993.010694    0.0  664.0  2348.5   \n",
       "DISTANCE_DAYS     4146.0     97.319502    316.922457 -647.0    4.5    15.0   \n",
       "\n",
       "                           75%       max  \n",
       "DISTANCE_COMMITS  10171.886364  514394.0  \n",
       "DISTANCE_DAYS        68.000000    9195.5  "
      ]
     },
     "execution_count": 12,
     "metadata": {},
     "output_type": "execute_result"
    }
   ],
   "source": [
    "df = pd.DataFrame.from_records(filtered_links)\n",
    "df[['DISTANCE_COMMITS','DISTANCE_DAYS']].describe().T"
   ]
  },
  {
   "cell_type": "code",
   "execution_count": 26,
   "id": "efbe53f9",
   "metadata": {},
   "outputs": [
    {
     "data": {
      "text/html": [
       "<div>\n",
       "<style scoped>\n",
       "    .dataframe tbody tr th:only-of-type {\n",
       "        vertical-align: middle;\n",
       "    }\n",
       "\n",
       "    .dataframe tbody tr th {\n",
       "        vertical-align: top;\n",
       "    }\n",
       "\n",
       "    .dataframe thead th {\n",
       "        text-align: right;\n",
       "    }\n",
       "</style>\n",
       "<table border=\"1\" class=\"dataframe\">\n",
       "  <thead>\n",
       "    <tr style=\"text-align: right;\">\n",
       "      <th></th>\n",
       "      <th>FIX_ID</th>\n",
       "      <th>FIX_COMMITS_MERCURIAL</th>\n",
       "      <th>FIX_COMMITS_GIT</th>\n",
       "      <th>BUG_ID</th>\n",
       "      <th>BUG_COMMITS_MERCURIAL</th>\n",
       "      <th>BUG_COMMITS_GIT</th>\n",
       "      <th>NO_FILE_SHARED_FILES</th>\n",
       "      <th>NEW_LINES_ONLY_FIX</th>\n",
       "      <th>REMOVE_LINES_ONLY_BUG</th>\n",
       "      <th>NO_BUG</th>\n",
       "      <th>UNLINKABLE</th>\n",
       "      <th>DISTANCE_COMMITS</th>\n",
       "      <th>DISTANCE_DAYS</th>\n",
       "      <th>CALCULABLE_DISTANCE</th>\n",
       "    </tr>\n",
       "  </thead>\n",
       "  <tbody>\n",
       "    <tr>\n",
       "      <th>0</th>\n",
       "      <td>724457</td>\n",
       "      <td>31aea004045a5572adb1a665fca15f19531b4a42</td>\n",
       "      <td>830f666746d9096b664f9cd7dc00b182011bd57d</td>\n",
       "      <td>610902</td>\n",
       "      <td>e35dfafeee4222dd02fb04c192dcd10eb24cc129</td>\n",
       "      <td>b44beb2f50adea62fb1d4c44b88c1231cd93efae</td>\n",
       "      <td>False</td>\n",
       "      <td>False</td>\n",
       "      <td>False</td>\n",
       "      <td>False</td>\n",
       "      <td>False</td>\n",
       "      <td>378769.000000</td>\n",
       "      <td>2690.000000</td>\n",
       "      <td>True</td>\n",
       "    </tr>\n",
       "    <tr>\n",
       "      <th>1</th>\n",
       "      <td>992384</td>\n",
       "      <td>98575a5ca794cb67b8d569e8a95188a30532e336</td>\n",
       "      <td>a3329bf3430074eaf2d41dc1b74c95019bb59d6b</td>\n",
       "      <td>1102175</td>\n",
       "      <td>004a0cb8af9fbbe84522d0506a1fdd132d51944c c4285...</td>\n",
       "      <td>d5fdf5222cfcf502466759410a076018e3220114 18826...</td>\n",
       "      <td>False</td>\n",
       "      <td>False</td>\n",
       "      <td>False</td>\n",
       "      <td>False</td>\n",
       "      <td>False</td>\n",
       "      <td>30685.444444</td>\n",
       "      <td>200.777778</td>\n",
       "      <td>True</td>\n",
       "    </tr>\n",
       "    <tr>\n",
       "      <th>2</th>\n",
       "      <td>1046479</td>\n",
       "      <td>d15a1a637b666008ecaa68509ea4b3c48b0b164d</td>\n",
       "      <td>8bd541c1e3cc4d447ac140a3e3bc29c32fc02a68</td>\n",
       "      <td>726781</td>\n",
       "      <td>ff57a7b6f16731ebb71d930421c8d8f4feca45e1</td>\n",
       "      <td>e2f138cb03dd3cabc0e5870d3896790416b5c306</td>\n",
       "      <td>True</td>\n",
       "      <td>False</td>\n",
       "      <td>False</td>\n",
       "      <td>False</td>\n",
       "      <td>True</td>\n",
       "      <td>286507.000000</td>\n",
       "      <td>1849.000000</td>\n",
       "      <td>True</td>\n",
       "    </tr>\n",
       "    <tr>\n",
       "      <th>3</th>\n",
       "      <td>1221889</td>\n",
       "      <td>e366c310a5eb2204c77288c2450727aacef5d773</td>\n",
       "      <td>ef2909de413dfb64cd4d68ae2c4958bcc09f0e4a</td>\n",
       "      <td>1477205 1205558</td>\n",
       "      <td>f1f82e673a3490bb572c3a1110eeded81badb9a9 d89b9...</td>\n",
       "      <td>ca25e7dbb6892b3ce6cd364277e6d8fe5fc60c95 89463...</td>\n",
       "      <td>False</td>\n",
       "      <td>False</td>\n",
       "      <td>False</td>\n",
       "      <td>False</td>\n",
       "      <td>False</td>\n",
       "      <td>208120.833333</td>\n",
       "      <td>1389.500000</td>\n",
       "      <td>True</td>\n",
       "    </tr>\n",
       "    <tr>\n",
       "      <th>4</th>\n",
       "      <td>1224848</td>\n",
       "      <td>606676e2dd214e37cee9bae611072918cbd87df7</td>\n",
       "      <td>eec931567c3e973d10701d0c6b090a4e29a0de3c</td>\n",
       "      <td>786674</td>\n",
       "      <td>f5c7c5cd504a912dd8bd1e5775c5accb97fc7a32</td>\n",
       "      <td>d11f3d18f453b646ae5619440d0a83cee726beae</td>\n",
       "      <td>False</td>\n",
       "      <td>False</td>\n",
       "      <td>False</td>\n",
       "      <td>False</td>\n",
       "      <td>False</td>\n",
       "      <td>475.000000</td>\n",
       "      <td>2.000000</td>\n",
       "      <td>True</td>\n",
       "    </tr>\n",
       "    <tr>\n",
       "      <th>...</th>\n",
       "      <td>...</td>\n",
       "      <td>...</td>\n",
       "      <td>...</td>\n",
       "      <td>...</td>\n",
       "      <td>...</td>\n",
       "      <td>...</td>\n",
       "      <td>...</td>\n",
       "      <td>...</td>\n",
       "      <td>...</td>\n",
       "      <td>...</td>\n",
       "      <td>...</td>\n",
       "      <td>...</td>\n",
       "      <td>...</td>\n",
       "      <td>...</td>\n",
       "    </tr>\n",
       "    <tr>\n",
       "      <th>4141</th>\n",
       "      <td>1676414</td>\n",
       "      <td>2d93ec1fdb2517df6c92bf83ab66d0ca303da668</td>\n",
       "      <td>ea186e67796833032f0ed8dffe61e1171cd49783</td>\n",
       "      <td>1675549</td>\n",
       "      <td>ab2514a6da6491cffeca1445b1914826975d3395</td>\n",
       "      <td>39ed8503d344b2628e07f750fc1fef1e6cbc0fa4</td>\n",
       "      <td>False</td>\n",
       "      <td>False</td>\n",
       "      <td>False</td>\n",
       "      <td>False</td>\n",
       "      <td>False</td>\n",
       "      <td>147.000000</td>\n",
       "      <td>0.000000</td>\n",
       "      <td>True</td>\n",
       "    </tr>\n",
       "    <tr>\n",
       "      <th>4142</th>\n",
       "      <td>1676417</td>\n",
       "      <td>d3281939949e31fc36141751fc90206701a6c78f</td>\n",
       "      <td>37f3e27c37ad95222e17095e73713d6d7e36cd9a</td>\n",
       "      <td>1674515</td>\n",
       "      <td>5d8fba30a3f4b2550e26bc55029bb7a66dbd7484 ca520...</td>\n",
       "      <td>beeb9bf6e2990d82f01ae198f1c83bc3a2187164 bd2dd...</td>\n",
       "      <td>False</td>\n",
       "      <td>False</td>\n",
       "      <td>False</td>\n",
       "      <td>False</td>\n",
       "      <td>False</td>\n",
       "      <td>148.500000</td>\n",
       "      <td>0.500000</td>\n",
       "      <td>True</td>\n",
       "    </tr>\n",
       "    <tr>\n",
       "      <th>4143</th>\n",
       "      <td>1617111</td>\n",
       "      <td>2bb5b1e1caf647c617838c455527a4b7fa25431b</td>\n",
       "      <td>2de30cc56350c503a7b0b1f427a8ebb7bffd5005</td>\n",
       "      <td>1615607</td>\n",
       "      <td>95fe1470b3718d04e5c45605faedda62da140071</td>\n",
       "      <td>a019e5acf2b9584e512f47ff3c5d3369e6cabe4d</td>\n",
       "      <td>False</td>\n",
       "      <td>False</td>\n",
       "      <td>False</td>\n",
       "      <td>False</td>\n",
       "      <td>False</td>\n",
       "      <td>4921.000000</td>\n",
       "      <td>28.000000</td>\n",
       "      <td>True</td>\n",
       "    </tr>\n",
       "    <tr>\n",
       "      <th>4144</th>\n",
       "      <td>1623938</td>\n",
       "      <td>7172c878c66e6b997d823ce37c6f9491e856bbae</td>\n",
       "      <td>704a04f8bf2f119b40a0881d8273309eb3b149e1</td>\n",
       "      <td>1606036</td>\n",
       "      <td>dbeea4db8edeac1d346210eccbd1ed0240d5f65f</td>\n",
       "      <td>0bfa1c9de00e2d534a9f97f3427ced361c1c3702</td>\n",
       "      <td>False</td>\n",
       "      <td>False</td>\n",
       "      <td>False</td>\n",
       "      <td>False</td>\n",
       "      <td>False</td>\n",
       "      <td>11745.000000</td>\n",
       "      <td>82.000000</td>\n",
       "      <td>True</td>\n",
       "    </tr>\n",
       "    <tr>\n",
       "      <th>4145</th>\n",
       "      <td>1669000</td>\n",
       "      <td>bc23fd6fc7c244337b3b3aa44bbfeddfd2f8716c</td>\n",
       "      <td>fb3c58005f85b8baf407a5dfa7a560b3530f0407</td>\n",
       "      <td>1668357</td>\n",
       "      <td>d556d96cfa700a51c6da89286de3e1a054670479 ee7ee...</td>\n",
       "      <td>8023f604024bf5062d464b09c2c0ae8051ccd27a 7b762...</td>\n",
       "      <td>False</td>\n",
       "      <td>False</td>\n",
       "      <td>False</td>\n",
       "      <td>False</td>\n",
       "      <td>False</td>\n",
       "      <td>1657.750000</td>\n",
       "      <td>11.500000</td>\n",
       "      <td>True</td>\n",
       "    </tr>\n",
       "  </tbody>\n",
       "</table>\n",
       "<p>4056 rows × 14 columns</p>\n",
       "</div>"
      ],
      "text/plain": [
       "       FIX_ID                     FIX_COMMITS_MERCURIAL  \\\n",
       "0      724457  31aea004045a5572adb1a665fca15f19531b4a42   \n",
       "1      992384  98575a5ca794cb67b8d569e8a95188a30532e336   \n",
       "2     1046479  d15a1a637b666008ecaa68509ea4b3c48b0b164d   \n",
       "3     1221889  e366c310a5eb2204c77288c2450727aacef5d773   \n",
       "4     1224848  606676e2dd214e37cee9bae611072918cbd87df7   \n",
       "...       ...                                       ...   \n",
       "4141  1676414  2d93ec1fdb2517df6c92bf83ab66d0ca303da668   \n",
       "4142  1676417  d3281939949e31fc36141751fc90206701a6c78f   \n",
       "4143  1617111  2bb5b1e1caf647c617838c455527a4b7fa25431b   \n",
       "4144  1623938  7172c878c66e6b997d823ce37c6f9491e856bbae   \n",
       "4145  1669000  bc23fd6fc7c244337b3b3aa44bbfeddfd2f8716c   \n",
       "\n",
       "                               FIX_COMMITS_GIT           BUG_ID  \\\n",
       "0     830f666746d9096b664f9cd7dc00b182011bd57d           610902   \n",
       "1     a3329bf3430074eaf2d41dc1b74c95019bb59d6b          1102175   \n",
       "2     8bd541c1e3cc4d447ac140a3e3bc29c32fc02a68           726781   \n",
       "3     ef2909de413dfb64cd4d68ae2c4958bcc09f0e4a  1477205 1205558   \n",
       "4     eec931567c3e973d10701d0c6b090a4e29a0de3c           786674   \n",
       "...                                        ...              ...   \n",
       "4141  ea186e67796833032f0ed8dffe61e1171cd49783          1675549   \n",
       "4142  37f3e27c37ad95222e17095e73713d6d7e36cd9a          1674515   \n",
       "4143  2de30cc56350c503a7b0b1f427a8ebb7bffd5005          1615607   \n",
       "4144  704a04f8bf2f119b40a0881d8273309eb3b149e1          1606036   \n",
       "4145  fb3c58005f85b8baf407a5dfa7a560b3530f0407          1668357   \n",
       "\n",
       "                                  BUG_COMMITS_MERCURIAL  \\\n",
       "0              e35dfafeee4222dd02fb04c192dcd10eb24cc129   \n",
       "1     004a0cb8af9fbbe84522d0506a1fdd132d51944c c4285...   \n",
       "2              ff57a7b6f16731ebb71d930421c8d8f4feca45e1   \n",
       "3     f1f82e673a3490bb572c3a1110eeded81badb9a9 d89b9...   \n",
       "4              f5c7c5cd504a912dd8bd1e5775c5accb97fc7a32   \n",
       "...                                                 ...   \n",
       "4141           ab2514a6da6491cffeca1445b1914826975d3395   \n",
       "4142  5d8fba30a3f4b2550e26bc55029bb7a66dbd7484 ca520...   \n",
       "4143           95fe1470b3718d04e5c45605faedda62da140071   \n",
       "4144           dbeea4db8edeac1d346210eccbd1ed0240d5f65f   \n",
       "4145  d556d96cfa700a51c6da89286de3e1a054670479 ee7ee...   \n",
       "\n",
       "                                        BUG_COMMITS_GIT  NO_FILE_SHARED_FILES  \\\n",
       "0              b44beb2f50adea62fb1d4c44b88c1231cd93efae                 False   \n",
       "1     d5fdf5222cfcf502466759410a076018e3220114 18826...                 False   \n",
       "2              e2f138cb03dd3cabc0e5870d3896790416b5c306                  True   \n",
       "3     ca25e7dbb6892b3ce6cd364277e6d8fe5fc60c95 89463...                 False   \n",
       "4              d11f3d18f453b646ae5619440d0a83cee726beae                 False   \n",
       "...                                                 ...                   ...   \n",
       "4141           39ed8503d344b2628e07f750fc1fef1e6cbc0fa4                 False   \n",
       "4142  beeb9bf6e2990d82f01ae198f1c83bc3a2187164 bd2dd...                 False   \n",
       "4143           a019e5acf2b9584e512f47ff3c5d3369e6cabe4d                 False   \n",
       "4144           0bfa1c9de00e2d534a9f97f3427ced361c1c3702                 False   \n",
       "4145  8023f604024bf5062d464b09c2c0ae8051ccd27a 7b762...                 False   \n",
       "\n",
       "      NEW_LINES_ONLY_FIX  REMOVE_LINES_ONLY_BUG  NO_BUG  UNLINKABLE  \\\n",
       "0                  False                  False   False       False   \n",
       "1                  False                  False   False       False   \n",
       "2                  False                  False   False        True   \n",
       "3                  False                  False   False       False   \n",
       "4                  False                  False   False       False   \n",
       "...                  ...                    ...     ...         ...   \n",
       "4141               False                  False   False       False   \n",
       "4142               False                  False   False       False   \n",
       "4143               False                  False   False       False   \n",
       "4144               False                  False   False       False   \n",
       "4145               False                  False   False       False   \n",
       "\n",
       "      DISTANCE_COMMITS  DISTANCE_DAYS  CALCULABLE_DISTANCE  \n",
       "0        378769.000000    2690.000000                 True  \n",
       "1         30685.444444     200.777778                 True  \n",
       "2        286507.000000    1849.000000                 True  \n",
       "3        208120.833333    1389.500000                 True  \n",
       "4           475.000000       2.000000                 True  \n",
       "...                ...            ...                  ...  \n",
       "4141        147.000000       0.000000                 True  \n",
       "4142        148.500000       0.500000                 True  \n",
       "4143       4921.000000      28.000000                 True  \n",
       "4144      11745.000000      82.000000                 True  \n",
       "4145       1657.750000      11.500000                 True  \n",
       "\n",
       "[4056 rows x 14 columns]"
      ]
     },
     "execution_count": 26,
     "metadata": {},
     "output_type": "execute_result"
    }
   ],
   "source": [
    "df[df['DISTANCE_DAYS'] >= 0]"
   ]
  },
  {
   "cell_type": "code",
   "execution_count": 27,
   "id": "a0cf1f7d",
   "metadata": {},
   "outputs": [
    {
     "data": {
      "text/plain": [
       "90"
      ]
     },
     "execution_count": 27,
     "metadata": {},
     "output_type": "execute_result"
    }
   ],
   "source": [
    "# There are 60 commits (from 4,146) where BFC was created BEFORE BIC (???)\n",
    "len(df[df['DISTANCE_DAYS'] < 0])"
   ]
  },
  {
   "cell_type": "code",
   "execution_count": 28,
   "id": "07658487",
   "metadata": {},
   "outputs": [
    {
     "name": "stderr",
     "output_type": "stream",
     "text": [
      "/tmp/ipykernel_610162/3162804860.py:1: UserWarning: Boolean Series key will be reindexed to match DataFrame index.\n",
      "  len(df[df['DISTANCE_DAYS'] >= 0][df['DISTANCE_COMMITS'] == 0])\n"
     ]
    },
    {
     "data": {
      "text/plain": [
       "0"
      ]
     },
     "execution_count": 28,
     "metadata": {},
     "output_type": "execute_result"
    }
   ],
   "source": [
    "len(df[df['DISTANCE_DAYS'] >= 0][df['DISTANCE_COMMITS'] == 0])"
   ]
  },
  {
   "cell_type": "code",
   "execution_count": 29,
   "id": "75d8e094",
   "metadata": {},
   "outputs": [
    {
     "name": "stderr",
     "output_type": "stream",
     "text": [
      "/tmp/ipykernel_610162/3476698939.py:1: UserWarning: Boolean Series key will be reindexed to match DataFrame index.\n",
      "  df[df['DISTANCE_DAYS'] >= 0][df['DISTANCE_COMMITS'] > 0][['DISTANCE_COMMITS','DISTANCE_DAYS']].describe().T\n"
     ]
    },
    {
     "data": {
      "text/html": [
       "<div>\n",
       "<style scoped>\n",
       "    .dataframe tbody tr th:only-of-type {\n",
       "        vertical-align: middle;\n",
       "    }\n",
       "\n",
       "    .dataframe tbody tr th {\n",
       "        vertical-align: top;\n",
       "    }\n",
       "\n",
       "    .dataframe thead th {\n",
       "        text-align: right;\n",
       "    }\n",
       "</style>\n",
       "<table border=\"1\" class=\"dataframe\">\n",
       "  <thead>\n",
       "    <tr style=\"text-align: right;\">\n",
       "      <th></th>\n",
       "      <th>count</th>\n",
       "      <th>mean</th>\n",
       "      <th>std</th>\n",
       "      <th>min</th>\n",
       "      <th>25%</th>\n",
       "      <th>50%</th>\n",
       "      <th>75%</th>\n",
       "      <th>max</th>\n",
       "    </tr>\n",
       "  </thead>\n",
       "  <tbody>\n",
       "    <tr>\n",
       "      <th>DISTANCE_COMMITS</th>\n",
       "      <td>4056.0</td>\n",
       "      <td>14555.368756</td>\n",
       "      <td>40382.311435</td>\n",
       "      <td>4.0</td>\n",
       "      <td>697.5</td>\n",
       "      <td>2442.0</td>\n",
       "      <td>10450.875000</td>\n",
       "      <td>514394.0</td>\n",
       "    </tr>\n",
       "    <tr>\n",
       "      <th>DISTANCE_DAYS</th>\n",
       "      <td>4056.0</td>\n",
       "      <td>100.327986</td>\n",
       "      <td>319.483159</td>\n",
       "      <td>0.0</td>\n",
       "      <td>5.0</td>\n",
       "      <td>16.5</td>\n",
       "      <td>70.035714</td>\n",
       "      <td>9195.5</td>\n",
       "    </tr>\n",
       "  </tbody>\n",
       "</table>\n",
       "</div>"
      ],
      "text/plain": [
       "                   count          mean           std  min    25%     50%  \\\n",
       "DISTANCE_COMMITS  4056.0  14555.368756  40382.311435  4.0  697.5  2442.0   \n",
       "DISTANCE_DAYS     4056.0    100.327986    319.483159  0.0    5.0    16.5   \n",
       "\n",
       "                           75%       max  \n",
       "DISTANCE_COMMITS  10450.875000  514394.0  \n",
       "DISTANCE_DAYS        70.035714    9195.5  "
      ]
     },
     "execution_count": 29,
     "metadata": {},
     "output_type": "execute_result"
    }
   ],
   "source": [
    "df[df['DISTANCE_DAYS'] >= 0][df['DISTANCE_COMMITS'] > 0][['DISTANCE_COMMITS','DISTANCE_DAYS']].describe().T"
   ]
  },
  {
   "cell_type": "code",
   "execution_count": 31,
   "id": "224862e1",
   "metadata": {},
   "outputs": [
    {
     "name": "stdout",
     "output_type": "stream",
     "text": [
      "multiples_bfc= 1157\n",
      "multiples_bic= 3396\n",
      "multiples_bfc_bic= 805\n"
     ]
    }
   ],
   "source": [
    "multiples_bfc=0\n",
    "multiples_bic=0\n",
    "multiples_bfc_bic=0\n",
    "for link in links:\n",
    "    n_bfc = link['FIX_COMMITS_GIT'].split(\" \")\n",
    "    n_bic = link['BUG_COMMITS_GIT'].split(\" \")\n",
    "    if len(n_bfc) > 1:\n",
    "        multiples_bfc+=1\n",
    "    if len(n_bic) > 1:\n",
    "        multiples_bic+=1\n",
    "    if len(n_bfc) > 1 and len(n_bic)>1:\n",
    "        multiples_bfc_bic+=1\n",
    "        \n",
    "print(\"multiples_bfc=\",multiples_bfc)\n",
    "print(\"multiples_bic=\",multiples_bic)\n",
    "print(\"multiples_bfc_bic=\",multiples_bfc_bic)"
   ]
  }
 ],
 "metadata": {
  "kernelspec": {
   "display_name": "Python 3 (ipykernel)",
   "language": "python",
   "name": "python3"
  },
  "language_info": {
   "codemirror_mode": {
    "name": "ipython",
    "version": 3
   },
   "file_extension": ".py",
   "mimetype": "text/x-python",
   "name": "python",
   "nbconvert_exporter": "python",
   "pygments_lexer": "ipython3",
   "version": "3.9.5"
  }
 },
 "nbformat": 4,
 "nbformat_minor": 5
}
