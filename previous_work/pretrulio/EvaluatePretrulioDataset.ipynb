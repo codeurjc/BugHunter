{
 "cells": [
  {
   "cell_type": "code",
   "execution_count": 1,
   "id": "dde6f2b7",
   "metadata": {},
   "outputs": [],
   "source": [
    "import pandas as pd\n",
    "import os\n",
    "import sys\n",
    "from datetime import datetime\n",
    "import csv\n",
    "import concurrent.futures\n",
    "import subprocess\n",
    "from datetime import datetime"
   ]
  },
  {
   "cell_type": "markdown",
   "id": "3c34261f",
   "metadata": {},
   "source": [
    "Dataset of work \"SZZ in the time of Pull Requests\" \n",
    "- SOURCE: https://github.com/mozilla/regressors-regressions-dataset"
   ]
  },
  {
   "cell_type": "code",
   "execution_count": 2,
   "id": "c9399bb4",
   "metadata": {},
   "outputs": [],
   "source": [
    "# Clone Repository\n",
    "# !hg clone https://hg.mozilla.org/mozilla-central/"
   ]
  },
  {
   "cell_type": "code",
   "execution_count": null,
   "id": "defa9218",
   "metadata": {},
   "outputs": [],
   "source": [
    "# Download dataset\n",
    "# wget https://raw.githubusercontent.com/mozilla/regressors-regressions-dataset/main/dataset.csv"
   ]
  },
  {
   "cell_type": "code",
   "execution_count": 3,
   "id": "a458f82a",
   "metadata": {},
   "outputs": [],
   "source": [
    "def getRevisionId(commit_hash):\n",
    "    return subprocess.getoutput(\"cd firefox-source && hg id -n -r \"+commit_hash)"
   ]
  },
  {
   "cell_type": "code",
   "execution_count": 4,
   "id": "fc3bf181",
   "metadata": {},
   "outputs": [],
   "source": [
    "def calculateDistanceCommits(bfc,bic):\n",
    "    aux= bic + \"::\" + bfc\n",
    "    distance = subprocess.getoutput(\"cd firefox-source && hg log --rev \"+aux+\" --template \\\"{rev} \\\" | wc -w\")\n",
    "    return int(distance)"
   ]
  },
  {
   "cell_type": "code",
   "execution_count": 5,
   "id": "1b6a3bec",
   "metadata": {},
   "outputs": [],
   "source": [
    "def getDate(c_id):\n",
    "    date = subprocess.getoutput(\"cd firefox-source && hg log -r \"+c_id+\" --template \\\"{date|date}\\n\\\"\")\n",
    "    return datetime.strptime(date, \"%a %b %d %H:%M:%S %Y %z\")\n",
    "def calculateDistanceDays(bfc_id,bic_id):\n",
    "    bfc_date = getDate(bfc_id)\n",
    "    bic_date = getDate(bic_id)\n",
    "    return (bfc_date-bic_date).days"
   ]
  },
  {
   "cell_type": "code",
   "execution_count": 6,
   "id": "09338909",
   "metadata": {},
   "outputs": [],
   "source": [
    "def addDistances(link):\n",
    "    bfc = link['FIX_COMMITS_MERCURIAL'].split(\" \")[0]\n",
    "    bfc_id = getRevisionId(bfc)\n",
    "    if isinstance(link['BUG_COMMITS_MERCURIAL'], str):\n",
    "        bic = link['BUG_COMMITS_MERCURIAL'].split(\" \")[0]\n",
    "        bic_id = getRevisionId(bic)\n",
    "    else:\n",
    "        link['CALCULABLE_DISTANCE'] = False\n",
    "        return\n",
    "    link['DISTANCE_COMMITS'] = calculateDistanceCommits(bfc, bic)\n",
    "    link['DISTANCE_DAYS'] = calculateDistanceDays(bfc_id,bic_id)\n",
    "    link['CALCULABLE_DISTANCE'] = True"
   ]
  },
  {
   "cell_type": "code",
   "execution_count": 26,
   "id": "4cd7fc2c",
   "metadata": {},
   "outputs": [
    {
     "data": {
      "text/plain": [
       "4174"
      ]
     },
     "execution_count": 26,
     "metadata": {},
     "output_type": "execute_result"
    }
   ],
   "source": [
    "df = pd.read_csv('dataset.csv')\n",
    "links = df[df['UNLINKABLE']==False].to_dict('records')\n",
    "#links = df.to_dict('records')\n",
    "len(links)"
   ]
  },
  {
   "cell_type": "code",
   "execution_count": 27,
   "id": "511f845b",
   "metadata": {},
   "outputs": [],
   "source": [
    "future_results = []\n",
    "with concurrent.futures.ThreadPoolExecutor(64) as executor:\n",
    "    for link in links:\n",
    "        future = executor.submit(addDistances, link)\n",
    "        future_results.append(future)\n",
    "for future in future_results:\n",
    "    try:\n",
    "        future.result() \n",
    "    except Exception as e:\n",
    "        print(e)"
   ]
  },
  {
   "cell_type": "code",
   "execution_count": 28,
   "id": "42faaf37",
   "metadata": {},
   "outputs": [
    {
     "data": {
      "text/html": [
       "<div>\n",
       "<style scoped>\n",
       "    .dataframe tbody tr th:only-of-type {\n",
       "        vertical-align: middle;\n",
       "    }\n",
       "\n",
       "    .dataframe tbody tr th {\n",
       "        vertical-align: top;\n",
       "    }\n",
       "\n",
       "    .dataframe thead th {\n",
       "        text-align: right;\n",
       "    }\n",
       "</style>\n",
       "<table border=\"1\" class=\"dataframe\">\n",
       "  <thead>\n",
       "    <tr style=\"text-align: right;\">\n",
       "      <th></th>\n",
       "      <th>count</th>\n",
       "      <th>mean</th>\n",
       "      <th>std</th>\n",
       "      <th>min</th>\n",
       "      <th>25%</th>\n",
       "      <th>50%</th>\n",
       "      <th>75%</th>\n",
       "      <th>max</th>\n",
       "    </tr>\n",
       "  </thead>\n",
       "  <tbody>\n",
       "    <tr>\n",
       "      <th>DISTANCE_COMMITS</th>\n",
       "      <td>4174.0</td>\n",
       "      <td>13881.897221</td>\n",
       "      <td>37878.281626</td>\n",
       "      <td>0.0</td>\n",
       "      <td>714.0</td>\n",
       "      <td>2604.5</td>\n",
       "      <td>10937.75</td>\n",
       "      <td>514394.0</td>\n",
       "    </tr>\n",
       "    <tr>\n",
       "      <th>DISTANCE_DAYS</th>\n",
       "      <td>4174.0</td>\n",
       "      <td>92.101342</td>\n",
       "      <td>269.759532</td>\n",
       "      <td>-933.0</td>\n",
       "      <td>5.0</td>\n",
       "      <td>18.0</td>\n",
       "      <td>72.00</td>\n",
       "      <td>4668.0</td>\n",
       "    </tr>\n",
       "  </tbody>\n",
       "</table>\n",
       "</div>"
      ],
      "text/plain": [
       "                   count          mean           std    min    25%     50%  \\\n",
       "DISTANCE_COMMITS  4174.0  13881.897221  37878.281626    0.0  714.0  2604.5   \n",
       "DISTANCE_DAYS     4174.0     92.101342    269.759532 -933.0    5.0    18.0   \n",
       "\n",
       "                       75%       max  \n",
       "DISTANCE_COMMITS  10937.75  514394.0  \n",
       "DISTANCE_DAYS        72.00    4668.0  "
      ]
     },
     "execution_count": 28,
     "metadata": {},
     "output_type": "execute_result"
    }
   ],
   "source": [
    "df = pd.DataFrame.from_records(links)\n",
    "df[['DISTANCE_COMMITS','DISTANCE_DAYS']].describe().T"
   ]
  },
  {
   "cell_type": "code",
   "execution_count": 31,
   "id": "23c6fff7",
   "metadata": {},
   "outputs": [
    {
     "data": {
      "text/html": [
       "<div>\n",
       "<style scoped>\n",
       "    .dataframe tbody tr th:only-of-type {\n",
       "        vertical-align: middle;\n",
       "    }\n",
       "\n",
       "    .dataframe tbody tr th {\n",
       "        vertical-align: top;\n",
       "    }\n",
       "\n",
       "    .dataframe thead th {\n",
       "        text-align: right;\n",
       "    }\n",
       "</style>\n",
       "<table border=\"1\" class=\"dataframe\">\n",
       "  <thead>\n",
       "    <tr style=\"text-align: right;\">\n",
       "      <th></th>\n",
       "      <th>FIX_ID</th>\n",
       "      <th>FIX_COMMITS_MERCURIAL</th>\n",
       "      <th>FIX_COMMITS_GIT</th>\n",
       "      <th>BUG_ID</th>\n",
       "      <th>BUG_COMMITS_MERCURIAL</th>\n",
       "      <th>BUG_COMMITS_GIT</th>\n",
       "      <th>NO_FILE_SHARED_FILES</th>\n",
       "      <th>NEW_LINES_ONLY_FIX</th>\n",
       "      <th>REMOVE_LINES_ONLY_BUG</th>\n",
       "      <th>NO_BUG</th>\n",
       "      <th>UNLINKABLE</th>\n",
       "      <th>DISTANCE_COMMITS</th>\n",
       "      <th>DISTANCE_DAYS</th>\n",
       "      <th>CALCULABLE_DISTANCE</th>\n",
       "    </tr>\n",
       "  </thead>\n",
       "  <tbody>\n",
       "    <tr>\n",
       "      <th>12</th>\n",
       "      <td>1345104</td>\n",
       "      <td>29103bace2abbd31d1e27d738483f6db26d07808</td>\n",
       "      <td>bb0f2387714608e8464906c308ff7f1be8c98423</td>\n",
       "      <td>1556437</td>\n",
       "      <td>dfdb610b82b95b7b64c5aa9a96c9e16bfacdf79b</td>\n",
       "      <td>196fec0c9cfb49841ec83f6e792f6bb9cdcded2b</td>\n",
       "      <td>False</td>\n",
       "      <td>False</td>\n",
       "      <td>False</td>\n",
       "      <td>False</td>\n",
       "      <td>False</td>\n",
       "      <td>0</td>\n",
       "      <td>-84</td>\n",
       "      <td>True</td>\n",
       "    </tr>\n",
       "  </tbody>\n",
       "</table>\n",
       "</div>"
      ],
      "text/plain": [
       "     FIX_ID                     FIX_COMMITS_MERCURIAL  \\\n",
       "12  1345104  29103bace2abbd31d1e27d738483f6db26d07808   \n",
       "\n",
       "                             FIX_COMMITS_GIT   BUG_ID  \\\n",
       "12  bb0f2387714608e8464906c308ff7f1be8c98423  1556437   \n",
       "\n",
       "                       BUG_COMMITS_MERCURIAL  \\\n",
       "12  dfdb610b82b95b7b64c5aa9a96c9e16bfacdf79b   \n",
       "\n",
       "                             BUG_COMMITS_GIT  NO_FILE_SHARED_FILES  \\\n",
       "12  196fec0c9cfb49841ec83f6e792f6bb9cdcded2b                 False   \n",
       "\n",
       "    NEW_LINES_ONLY_FIX  REMOVE_LINES_ONLY_BUG  NO_BUG  UNLINKABLE  \\\n",
       "12               False                  False   False       False   \n",
       "\n",
       "    DISTANCE_COMMITS  DISTANCE_DAYS  CALCULABLE_DISTANCE  \n",
       "12                 0            -84                 True  "
      ]
     },
     "execution_count": 31,
     "metadata": {},
     "output_type": "execute_result"
    }
   ],
   "source": [
    "# There are 70 commits (from 4174) commits where BFC was created BEFORE BIC (???)\n",
    "#df[df['DISTANCE_DAYS'] >= 0]\n",
    "df[df['FIX_ID']==1345104]"
   ]
  },
  {
   "cell_type": "code",
   "execution_count": 23,
   "id": "fe03be8f",
   "metadata": {},
   "outputs": [
    {
     "data": {
      "text/html": [
       "<div>\n",
       "<style scoped>\n",
       "    .dataframe tbody tr th:only-of-type {\n",
       "        vertical-align: middle;\n",
       "    }\n",
       "\n",
       "    .dataframe tbody tr th {\n",
       "        vertical-align: top;\n",
       "    }\n",
       "\n",
       "    .dataframe thead th {\n",
       "        text-align: right;\n",
       "    }\n",
       "</style>\n",
       "<table border=\"1\" class=\"dataframe\">\n",
       "  <thead>\n",
       "    <tr style=\"text-align: right;\">\n",
       "      <th></th>\n",
       "      <th>count</th>\n",
       "      <th>mean</th>\n",
       "      <th>std</th>\n",
       "      <th>min</th>\n",
       "      <th>25%</th>\n",
       "      <th>50%</th>\n",
       "      <th>75%</th>\n",
       "      <th>max</th>\n",
       "    </tr>\n",
       "  </thead>\n",
       "  <tbody>\n",
       "    <tr>\n",
       "      <th>DISTANCE_COMMITS</th>\n",
       "      <td>4104.0</td>\n",
       "      <td>14118.278265</td>\n",
       "      <td>38156.376317</td>\n",
       "      <td>0.0</td>\n",
       "      <td>769.0</td>\n",
       "      <td>2742.5</td>\n",
       "      <td>11158.75</td>\n",
       "      <td>514394.0</td>\n",
       "    </tr>\n",
       "    <tr>\n",
       "      <th>DISTANCE_DAYS</th>\n",
       "      <td>4104.0</td>\n",
       "      <td>95.172027</td>\n",
       "      <td>270.068372</td>\n",
       "      <td>0.0</td>\n",
       "      <td>5.0</td>\n",
       "      <td>19.0</td>\n",
       "      <td>75.00</td>\n",
       "      <td>4668.0</td>\n",
       "    </tr>\n",
       "  </tbody>\n",
       "</table>\n",
       "</div>"
      ],
      "text/plain": [
       "                   count          mean           std  min    25%     50%  \\\n",
       "DISTANCE_COMMITS  4104.0  14118.278265  38156.376317  0.0  769.0  2742.5   \n",
       "DISTANCE_DAYS     4104.0     95.172027    270.068372  0.0    5.0    19.0   \n",
       "\n",
       "                       75%       max  \n",
       "DISTANCE_COMMITS  11158.75  514394.0  \n",
       "DISTANCE_DAYS        75.00    4668.0  "
      ]
     },
     "execution_count": 23,
     "metadata": {},
     "output_type": "execute_result"
    }
   ],
   "source": [
    "df[df['DISTANCE_DAYS'] >= 0 & df['CALCULABLE_DISTANCE']][['DISTANCE_COMMITS','DISTANCE_DAYS']].describe().T"
   ]
  }
 ],
 "metadata": {
  "kernelspec": {
   "display_name": "Python 3 (ipykernel)",
   "language": "python",
   "name": "python3"
  },
  "language_info": {
   "codemirror_mode": {
    "name": "ipython",
    "version": 3
   },
   "file_extension": ".py",
   "mimetype": "text/x-python",
   "name": "python",
   "nbconvert_exporter": "python",
   "pygments_lexer": "ipython3",
   "version": "3.9.5"
  }
 },
 "nbformat": 4,
 "nbformat_minor": 5
}
