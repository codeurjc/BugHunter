{
 "cells": [
  {
   "cell_type": "code",
   "execution_count": 1,
   "id": "54abb91f",
   "metadata": {},
   "outputs": [],
   "source": [
    "import csv\n",
    "import pandas as pd\n",
    "import re\n",
    "import hashlib\n",
    "import os\n",
    "import json\n",
    "import subprocess\n",
    "import glob\n",
    "\n",
    "root = \"/home/jovyan/work\""
   ]
  },
  {
   "cell_type": "code",
   "execution_count": 16,
   "id": "01cfe3ee",
   "metadata": {},
   "outputs": [
    {
     "name": "stdout",
     "output_type": "stream",
     "text": [
      "JacksonDatabind 14 2\n",
      "Math 28 2\n",
      "Gson 7 2\n",
      "Mockito 20 17\n"
     ]
    },
    {
     "data": {
      "text/plain": [
       "4"
      ]
     },
     "execution_count": 16,
     "metadata": {},
     "output_type": "execute_result"
    }
   ],
   "source": [
    "errors = []\n",
    "results = []\n",
    "projects = [ \n",
    "     \"Cli\", \"Closure\", \"Time\", \n",
    "     \"JacksonXml\", \"Collections\", \"Codec\", \"JxPath\",\n",
    "     \"Compress\", \"Csv\", \"JacksonCore\", \"JacksonDatabind\", \n",
    "     \"Jsoup\", \"Lang\", \"Math\", \"Gson\", \"Mockito\"\n",
    "]\n",
    "for project in projects:\n",
    "    # FOR EACH BUG\n",
    "    for bug_path in glob.glob(\"{root}/results/{project}/Bug_*/\".format(root=root, project=project)):\n",
    "        bug = re.search(r\"Bug_(\\d+)\", bug_path).group(1)\n",
    "        \n",
    "        # Filter detected regressions\n",
    "        with open(root+\"/analysis/results/\"+project+\"/Bug_\"+bug+\"/bug_result.json\") as jsonfile:\n",
    "            result = json.loads(jsonfile.read())\n",
    "        if result['sub_category'] == \"Multiple candidates\":\n",
    "            print(project, bug, len(result['BIC_candidates']))\n",
    "            results.append(result)\n",
    "len(results)"
   ]
  },
  {
   "cell_type": "markdown",
   "id": "bf2ad81b",
   "metadata": {},
   "source": [
    "## Analysis of BICs with multiple candidates\n",
    "- **JacksonDatabind 14 (2 candidates)**: Of the two candidates, the first one (chronologically) only adds a test that does not compile (it is missing a static variable created in the next commit). The second one does add new functionality to the source code (the ObjectReader class is modified) which introduces the bug (making the test stop passing) and the BFC fixes that same class.\n",
    "\n",
    "- **Math 28 (2 candidates)**: Commit 5 includes changes to a feature, using the FastMath class from the odk package. In commit 4 the import of the package is corrected, importing this class locally. Commit 5 (not buildable) is actually the BIC.\n",
    "\n",
    "- **Gson 2 (2 candidates)**: For this bug there are 2 candidates to be the BIC. In commit 335 the entire Json Reader class is deleted, which prevents the code from compiling. In commit 334 the JsonReader2 class is renamed to JsonReader, replacing the previous one. It is this second change that actually introduces the bug (by replacing the previous class).\n",
    "\n",
    "- **Mockito 20 (17 candidates)**: In the commit following the first commit that passes again begins a re-implementation of PluginLoader used by the Mockito library, changing from CglibMockMaker to ByteBuddyMockMaker. The development lasts 16 commits, during which the project cannot compile, as classes are required to be added in later commits. After finalizing the functionality, the test starts to fail until the BFC."
   ]
  },
  {
   "cell_type": "markdown",
   "id": "5eedb6c4",
   "metadata": {},
   "source": [
    "## Analysis of BICs with multiple candidates\n",
    "- **JacksonDatabind 38 (187 candidates)**: Use SNAPSHOT (RE-EXECUTING)\n",
    "- **JacksonDatabind 37 (187 candidates)**: Use SNAPSHOT (RE-EXECUTING)\n",
    "- **JacksonDatabind 34 (187 candidates)**: Use SNAPSHOT (RE-EXECUTING)\n",
    "- **JacksonDatabind 84 (187 candidates)**: Use SNAPSHOT (RE-EXECUTING)\n",
    "- **JacksonDatabind 112 (187 candidates)**: Use SNAPSHOT (RE-EXECUTING) ??\n",
    "- **JacksonDatabind 91 (15 candidates)**: Use SNAPSHOT (RE-EXECUTING)\n",
    "- **JacksonDatabind 8 (18 candidates)**: Use SNAPSHOT (RE-EXECUTING)\n",
    "- **JacksonDatabind 53 (187 candidates)**: Use SNAPSHOT (RE-EXECUTING)\n",
    "- **JacksonDatabind 44 (187 candidates)**: Use SNAPSHOT (RE-EXECUTING)\n",
    "- **JacksonDatabind 3 (200 candidates)**: Use SNAPSHOT (RE-EXECUTING)\n",
    "- **JacksonDatabind 52 (18 candidates)**: Use SNAPSHOT (RE-EXECUTING)\n",
    "- **JacksonDatabind 46 (74 candidates)**: Use SNAPSHOT (RE-EXECUTING)\n",
    "- **JacksonDatabind 70 (74 candidates)**: Use SNAPSHOT (RE-EXECUTING)\n",
    "- **JacksonDatabind 90 (187 candidates)**: Use SNAPSHOT (RE-EXECUTING)\n",
    "- **JacksonDatabind 96 (26 candidates)**: Use SNAPSHOT (RE-EXECUTING) ????\n",
    "- **JacksonDatabind 22 (187 candidates)**: SAME AS 14\n",
    "- **JacksonDatabind 16 (17 candidates)**: Use SNAPSHOT (RE-EXECUTING)\n",
    "- **JacksonDatabind 12 (15 candidates)**: Use SNAPSHOT (RE-EXECUTING)\n",
    "- **JacksonDatabind 62 (187 candidates)**: Use SNAPSHOT (RE-EXECUTING)"
   ]
  }
 ],
 "metadata": {
  "kernelspec": {
   "display_name": "Python 3 (ipykernel)",
   "language": "python",
   "name": "python3"
  },
  "language_info": {
   "codemirror_mode": {
    "name": "ipython",
    "version": 3
   },
   "file_extension": ".py",
   "mimetype": "text/x-python",
   "name": "python",
   "nbconvert_exporter": "python",
   "pygments_lexer": "ipython3",
   "version": "3.9.5"
  }
 },
 "nbformat": 4,
 "nbformat_minor": 5
}
