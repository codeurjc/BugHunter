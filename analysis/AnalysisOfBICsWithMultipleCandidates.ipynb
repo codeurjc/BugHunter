{
 "cells": [
  {
   "cell_type": "code",
   "execution_count": 3,
   "id": "54abb91f",
   "metadata": {},
   "outputs": [],
   "source": [
    "import csv\n",
    "import pandas as pd\n",
    "import re\n",
    "import hashlib\n",
    "import os\n",
    "import json\n",
    "import subprocess\n",
    "import glob\n",
    "\n",
    "root = \"/home/jovyan/work\""
   ]
  },
  {
   "cell_type": "code",
   "execution_count": 9,
   "id": "01cfe3ee",
   "metadata": {},
   "outputs": [
    {
     "name": "stdout",
     "output_type": "stream",
     "text": [
      "Closure 170 604\n",
      "Closure 8 604\n",
      "Closure 127 604\n",
      "Closure 131 604\n",
      "Closure 12 604\n",
      "JacksonXml 3 16\n",
      "JacksonDatabind 14 265\n",
      "JacksonDatabind 38 235\n",
      "JacksonDatabind 37 235\n",
      "JacksonDatabind 34 237\n",
      "JacksonDatabind 84 235\n",
      "JacksonDatabind 112 237\n",
      "JacksonDatabind 91 321\n",
      "JacksonDatabind 8 25\n",
      "JacksonDatabind 53 235\n",
      "JacksonDatabind 44 235\n",
      "JacksonDatabind 3 244\n",
      "JacksonDatabind 52 20\n",
      "JacksonDatabind 46 262\n",
      "JacksonDatabind 70 2017\n",
      "JacksonDatabind 90 237\n",
      "JacksonDatabind 96 29\n",
      "JacksonDatabind 22 265\n",
      "JacksonDatabind 16 2054\n",
      "JacksonDatabind 12 15\n",
      "JacksonDatabind 62 237\n",
      "Math 28 2\n",
      "Gson 7 2\n",
      "Mockito 20 23\n"
     ]
    }
   ],
   "source": [
    "errors = []\n",
    "results = []\n",
    "projects = [ \n",
    "     \"Cli\", \"Closure\", \"Time\", \n",
    "     \"JacksonXml\", \"Collections\", \"Codec\", \"JxPath\",\n",
    "     \"Compress\", \"Csv\", \"JacksonCore\", \"JacksonDatabind\", \n",
    "     \"Jsoup\", \"Lang\", \"Math\", \"Gson\", \"Mockito\"\n",
    "]\n",
    "for project in projects:\n",
    "    # FOR EACH BUG\n",
    "    for bug_path in glob.glob(\"{root}/results/{project}/Bug_*/\".format(root=root, project=project)):\n",
    "        bug = re.search(r\"Bug_(\\d+)\", bug_path).group(1)\n",
    "        \n",
    "        # Filter detected regressions\n",
    "        with open(root+\"/analysis/results/\"+project+\"/Bug_\"+bug+\"/bug_result.json\") as jsonfile:\n",
    "            result = json.loads(jsonfile.read())\n",
    "            results.append(result)\n",
    "        if result['sub_category'] == \"Multiple candidates\":\n",
    "            print(project, bug, len(result['BIC_candidates']))"
   ]
  },
  {
   "cell_type": "markdown",
   "id": "5eedb6c4",
   "metadata": {},
   "source": [
    "## Analysis of BICs with multiple candidates\n",
    "- **Closure 170, 8, 127, 131, 12 (604 candidates)**: \n",
    "- **Closure 8 (604 candidates)**: \n",
    "- **Closure 127 (604 candidates)**: \n",
    "- **Closure 131 (604 candidates)**: \n",
    "- **Closure 12 (604 candidates)**: \n",
    "- **JacksonXml 3 (16 candidates)**: \n",
    "- **JacksonDatabind 14 (265 candidates)**: \n",
    "- **JacksonDatabind 38 (235 candidates)**: \n",
    "- **JacksonDatabind 37 (235 candidates)**: \n",
    "- **JacksonDatabind 34 (237 candidates)**: \n",
    "- **JacksonDatabind 84 (235 candidates)**: \n",
    "- **JacksonDatabind 112 (237 candidates)**: \n",
    "- **JacksonDatabind 91 (321 candidates)**: \n",
    "- **JacksonDatabind 8 (25 candidates)**: \n",
    "- **JacksonDatabind 53 (235 candidates)**: \n",
    "- **JacksonDatabind 44 (235 candidates)**: \n",
    "- **JacksonDatabind 3 (244 candidates)**: \n",
    "- **JacksonDatabind 52 (20 candidates)**: \n",
    "- **JacksonDatabind 46 (262 candidates)**: \n",
    "- **JacksonDatabind 70 (2017 candidates)**: \n",
    "- **JacksonDatabind 90 (237 candidates)**: \n",
    "- **JacksonDatabind 96 (29 candidates)**: \n",
    "- **JacksonDatabind 22 (265 candidates)**: \n",
    "- **JacksonDatabind 16 (2054 candidates)**: \n",
    "- **JacksonDatabind 12 (15 candidates)**: \n",
    "- **JacksonDatabind 62 (237 candidates)**: \n",
    "\n",
    "- **Math 28 (2 candidates)**: Commit 5 includes changes to a feature, using the FastMath class from the odk package. In commit 4 the import of the package is corrected, importing this class locally. Commit 5 (not buildable) is actually the BIC.\n",
    "\n",
    "- **Gson 2 (2 candidates)**: For this bug there are 2 candidates to be the BIC. In commit 335 the entire Json Reader class is deleted, which prevents the code from compiling. In commit 334 the JsonReader2 class is renamed to JsonReader, replacing the previous one. It is this second change that actually introduces the bug (by replacing the previous class).\n",
    "\n",
    "- **Mockito 20 (23 candidates)**: The \"net.bytebuddy\" library, during several commits, is not properly configured. The configuration has been copied in previous commits to fix the bug. (WAITING RE-EXECUTION"
   ]
  }
 ],
 "metadata": {
  "kernelspec": {
   "display_name": "Python 3 (ipykernel)",
   "language": "python",
   "name": "python3"
  },
  "language_info": {
   "codemirror_mode": {
    "name": "ipython",
    "version": 3
   },
   "file_extension": ".py",
   "mimetype": "text/x-python",
   "name": "python",
   "nbconvert_exporter": "python",
   "pygments_lexer": "ipython3",
   "version": "3.9.5"
  }
 },
 "nbformat": 4,
 "nbformat_minor": 5
}
