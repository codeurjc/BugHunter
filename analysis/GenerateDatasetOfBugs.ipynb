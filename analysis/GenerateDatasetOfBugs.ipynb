{
 "cells": [
  {
   "cell_type": "markdown",
   "id": "3a41075c",
   "metadata": {},
   "source": [
    "# 3.2 Generate BIC dataset (BIC-RT)"
   ]
  },
  {
   "cell_type": "code",
   "execution_count": 1,
   "id": "0fb53ef8",
   "metadata": {},
   "outputs": [],
   "source": [
    "import json\n",
    "import glob\n",
    "import re\n",
    "import pandas as pd"
   ]
  },
  {
   "cell_type": "code",
   "execution_count": 2,
   "id": "edb3e125",
   "metadata": {},
   "outputs": [],
   "source": [
    "root=\"/home/jovyan/work\"\n",
    "analysis_results_path = root + \"/analysis/results/\""
   ]
  },
  {
   "cell_type": "code",
   "execution_count": 3,
   "id": "7c2a0d9d",
   "metadata": {},
   "outputs": [],
   "source": [
    "repository = {\n",
    "    \"Cli\": \"https://github.com/apache/commons-cli/commit/\",\n",
    "    \"JxPath\": \"https://github.com/apache/commons-jxpath/commit/\",\n",
    "    \"Codec\": \"https://github.com/apache/commons-codec/commit/\",\n",
    "    \"Time\": \"https://github.com/JodaOrg/joda-time/commit/\",\n",
    "    \"Compress\": \"https://github.com/apache/commons-compress/\",\n",
    "    \"JacksonCore\": \"https://github.com/FasterXML/jackson-core/commit/\",\n",
    "    \"JacksonDatabind\": \"https://github.com/FasterXML/jackson-databind/commit/\",\n",
    "    \"Gson\": \"https://github.com/google/gson/commit/\",\n",
    "    \"Jsoup\": \"https://github.com/jhy/jsoup/commit/\",\n",
    "    \"Lang\": \"https://github.com/apache/commons-lang/\",\n",
    "    \"Math\": \"https://github.com/Maes95/commons-math/commit/\",\n",
    "    \"Closure\": \"https://github.com/google/closure-compiler/commit/\",\n",
    "    \"Mockito\": \"https://github.com/mockito/mockito/commit/\"\n",
    "}"
   ]
  },
  {
   "cell_type": "code",
   "execution_count": 4,
   "id": "12a651e1",
   "metadata": {},
   "outputs": [],
   "source": [
    "projects = [\n",
    "    \"JacksonXml\", \"Time\", \"Collections\", \"Compress\", \"Csv\", \"JacksonCore\", \"JacksonDatabind\", \"Gson\", \"Jsoup\",\n",
    "    \"Lang\", \"Math\", \"Closure\", \"Mockito\", \"Cli\", \"JxPath\", \"Codec\"\n",
    "]\n",
    "regressions = []\n",
    "for project in projects:\n",
    "    # FOR EACH BUG\n",
    "    for bug_path in glob.glob(\"{root}/results/{project}/Bug_*/\".format(root=root, project=project)):\n",
    "        bug_id = re.search(r\"Bug_(\\d+)\", bug_path).group(1)\n",
    "        result_path = root+\"/analysis/results/{project}/Bug_{bug_id}/bug_result.json\".format(project=project, bug_id=bug_id)\n",
    "        # analysis/results/JacksonXml/Bug_1/bug_result.json\n",
    "        with open(result_path) as f:\n",
    "            result = json.load(f)\n",
    "            if result['sub_category'] == \"Unique candidates\": \n",
    "                #result['BFC'] = repository[result['project']]+result['fix_commit']\n",
    "                result['BFC'] = result['fix_commit']\n",
    "                #result['BIC'] = repository[result['project']]+result['BIC_candidates'][0][1]\n",
    "                result['BIC'] = result['BIC_candidates'][0][1]\n",
    "                regressions.append(result)"
   ]
  },
  {
   "cell_type": "code",
   "execution_count": 5,
   "id": "951916f4",
   "metadata": {},
   "outputs": [
    {
     "data": {
      "text/plain": [
       "68"
      ]
     },
     "execution_count": 5,
     "metadata": {},
     "output_type": "execute_result"
    }
   ],
   "source": [
    "regressions_df = pd.DataFrame(regressions)\n",
    "len(regressions_df)"
   ]
  },
  {
   "cell_type": "code",
   "execution_count": 6,
   "id": "88acee0d",
   "metadata": {},
   "outputs": [],
   "source": [
    "output = \"{root}/dataset/BIC-RT.csv\".format(root=root)\n",
    "regressions_df[['project', 'bug', 'test_name', 'bug_report', 'BFC', 'BIC' ]].to_csv(output)"
   ]
  },
  {
   "cell_type": "code",
   "execution_count": 7,
   "id": "8fc91550",
   "metadata": {},
   "outputs": [
    {
     "name": "stdout",
     "output_type": "stream",
     "text": [
      "TimeBug_1\n",
      "CompressBug_45\n",
      "MathBug_89\n",
      "MathBug_46\n",
      "ClosureBug_150\n",
      "ClosureBug_104\n",
      "MockitoBug_1\n",
      "CliBug_13\n",
      "Hotfix: 8\n"
     ]
    }
   ],
   "source": [
    "hotfix=0\n",
    "for reg in regressions:\n",
    "    bic_position = reg['BIC_candidates'][0][0]\n",
    "    if bic_position == 1:\n",
    "        print(reg['project']+reg['bug'])\n",
    "        hotfix+=1\n",
    "print(\"Hotfix: %d\"%hotfix)"
   ]
  }
 ],
 "metadata": {
  "kernelspec": {
   "display_name": "Python 3 (ipykernel)",
   "language": "python",
   "name": "python3"
  },
  "language_info": {
   "codemirror_mode": {
    "name": "ipython",
    "version": 3
   },
   "file_extension": ".py",
   "mimetype": "text/x-python",
   "name": "python",
   "nbconvert_exporter": "python",
   "pygments_lexer": "ipython3",
   "version": "3.9.5"
  }
 },
 "nbformat": 4,
 "nbformat_minor": 5
}
