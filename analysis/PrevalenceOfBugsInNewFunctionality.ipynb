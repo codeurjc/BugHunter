{
 "cells": [
  {
   "cell_type": "code",
   "execution_count": 1,
   "id": "921ab75e",
   "metadata": {},
   "outputs": [],
   "source": [
    "import json\n",
    "import glob\n",
    "import re\n",
    "import csv\n",
    "import pandas as pd\n",
    "import random\n",
    "import subprocess"
   ]
  },
  {
   "cell_type": "code",
   "execution_count": 2,
   "id": "26d66e63",
   "metadata": {},
   "outputs": [],
   "source": [
    "root=\"/home/jovyan/work\"\n",
    "analysis_results_path = root + \"/analysis/results/\""
   ]
  },
  {
   "cell_type": "code",
   "execution_count": 3,
   "id": "794d5d69",
   "metadata": {},
   "outputs": [],
   "source": [
    "repository = {\n",
    "    \"Cli\": \"https://github.com/apache/commons-cli/commit/\",\n",
    "    \"JxPath\": \"https://github.com/apache/commons-jxpath/commit/\",\n",
    "    \"Codec\": \"https://github.com/apache/commons-codec/commit/\",\n",
    "    \"Time\": \"https://github.com/JodaOrg/joda-time/commit/\",\n",
    "    \"Compress\": \"https://github.com/apache/commons-compress/commit/\",\n",
    "    \"JacksonCore\": \"https://github.com/FasterXML/jackson-core/commit/\",\n",
    "    \"JacksonXml\": \"https://github.com/FasterXML/jackson-dataformat-xml/commit/\",\n",
    "    \"JacksonDatabind\": \"https://github.com/FasterXML/jackson-databind/commit/\",\n",
    "    \"Gson\": \"https://github.com/google/gson/commit/\",\n",
    "    \"Jsoup\": \"https://github.com/jhy/jsoup/commit/\",\n",
    "    \"Lang\": \"https://github.com/apache/commons-lang/commit/\",\n",
    "    \"Math\": \"https://github.com/Maes95/commons-math/commit/\",\n",
    "    \"Closure\": \"https://github.com/google/closure-compiler/commit/\",\n",
    "    \"Mockito\": \"https://github.com/mockito/mockito/commit/\",\n",
    "    \"Csv\": \"https://github.com/apache/commons-csv/commit/\",\n",
    "    \"Collections\": \"https://github.com/apache/commons-collections/commit/\"\n",
    "}"
   ]
  },
  {
   "cell_type": "code",
   "execution_count": 4,
   "id": "0a8b65ff",
   "metadata": {},
   "outputs": [],
   "source": [
    "projects = [\n",
    "    \"JacksonXml\", \"Time\", \"Collections\", \"Compress\", \"Csv\", \"JacksonCore\", \"JacksonDatabind\", \"Gson\", \"Jsoup\",\n",
    "    \"Lang\", \"Math\", \"Closure\", \"Mockito\", \"Cli\", \"JxPath\", \"Codec\"\n",
    "]\n",
    "bugs_with_no_bic = []\n",
    "for project in projects:\n",
    "    # FOR EACH BUG\n",
    "    for bug_path in glob.glob(\"{root}/results/{project}/Bug_*/\".format(root=root, project=project)):\n",
    "        bug_id = re.search(r\"Bug_(\\d+)\", bug_path).group(1)\n",
    "        result_path = root+\"/analysis/results/{project}/Bug_{bug_id}/bug_result.json\".format(project=project, bug_id=bug_id)\n",
    "        with open(result_path) as f:\n",
    "            result = json.load(f)\n",
    "            if result[\"category\"] == \"No regression is detected\":\n",
    "                bugs_with_no_bic.append({\n",
    "                    'bug_id': bug_id,\n",
    "                    'project': project\n",
    "                })"
   ]
  },
  {
   "cell_type": "code",
   "execution_count": 5,
   "id": "cd2a3539",
   "metadata": {},
   "outputs": [],
   "source": [
    "random.seed(2023)\n",
    "random_bugs = random.sample(bugs_with_no_bic,100)"
   ]
  },
  {
   "cell_type": "code",
   "execution_count": 6,
   "id": "08a2d2bd",
   "metadata": {},
   "outputs": [],
   "source": [
    "def strToList(text):\n",
    "    return (\n",
    "        text\n",
    "        .replace(\"'\", \"\")\n",
    "        .replace('\"', '')\n",
    "        .replace(']', '')\n",
    "        .replace('[', '')\n",
    "    ).split(\",\")"
   ]
  },
  {
   "cell_type": "code",
   "execution_count": 7,
   "id": "c5544a38",
   "metadata": {},
   "outputs": [],
   "source": [
    "build_log_path=\"/results/%s/Bug_%s/commits/%s-%s/source-build.log\"\n",
    "test_build_log_path=\"/results/%s/Bug_%s/commits/%s-%s/test-build.log\"\n",
    "def getError(idx,project, bug, commit):\n",
    "    \n",
    "    if commit['State'] == 'BuildError':\n",
    "        logs_path = root+build_log_path%(project,bug, commit['id'],commit['commit'])\n",
    "        \n",
    "    if commit['State'] == 'TestBuildError':\n",
    "        logs_path = root+test_build_log_path%(project,bug, commit['id'],commit['commit'])\n",
    "        \n",
    "    log = subprocess.check_output(['cat', logs_path]).decode('utf-8')\n",
    "    \n",
    "    file_name= \"%d-%s-Bug_%s.log\"%(idx,project,bug)\n",
    "    dest_path = \"random_bugs_analyzed/logs/\"+file_name\n",
    "    \n",
    "    with open(dest_path, 'w') as f:\n",
    "        f.write(log)\n",
    "    \n",
    "    match = re.search(\"error: (.*)\", log)\n",
    "    if match is not None:\n",
    "        return match.group(1), file_name\n",
    "    else:\n",
    "        return \"<Check file log file>\", file_name"
   ]
  },
  {
   "cell_type": "code",
   "execution_count": 8,
   "id": "db792153",
   "metadata": {},
   "outputs": [],
   "source": [
    "def calculateFirstTestFail(idx,bug):\n",
    "    commit_history_results_path = root+\"/analysis/results/{project}/Bug_{bug_id}/commit_history_results.csv\".format(\n",
    "        project=bug[\"project\"], bug_id=bug[\"bug_id\"]\n",
    "    )\n",
    "    with open(commit_history_results_path) as csvfile:\n",
    "        commits = list(csv.DictReader(csvfile))\n",
    "    commits_dict = {c['commit']:c for c in commits}\n",
    "    first_test_fail_commit = None\n",
    "    bfc = commits[0]\n",
    "    for commit in commits:\n",
    "        if commit['State'] == 'TestFail':\n",
    "            first_test_fail_commit = commit\n",
    "    parents = strToList(first_test_fail_commit['parents'])\n",
    "    parents = [ commits_dict[p.strip()] if p != '' else None for p in parents ]\n",
    "    parents_errors = []\n",
    "    parents_logs = []\n",
    "    for parent in parents:\n",
    "        if parent is None:\n",
    "            parents_errors.append(\"FFC is first commit\")\n",
    "            parents_logs.append(\"\")\n",
    "        else:\n",
    "            error, log_file = getError(idx,bug[\"project\"], bug[\"bug_id\"], parent)\n",
    "            parents_errors.append(error)\n",
    "            parents_logs.append(log_file)\n",
    "    result = {\n",
    "        'idx': idx,\n",
    "        'project': bug[\"project\"],\n",
    "        'bug_id': bug[\"bug_id\"],\n",
    "        'BFC': repository[bug[\"project\"]]+bfc['commit'],\n",
    "        'FFC': repository[bug[\"project\"]]+first_test_fail_commit['commit'],\n",
    "        'FFC_parent_error': \"|#|\".join(parents_errors),\n",
    "        'FFC_parent_log':  \"|#|\".join(parents_logs)\n",
    "    }\n",
    "    return result"
   ]
  },
  {
   "cell_type": "code",
   "execution_count": 9,
   "id": "43a466a8",
   "metadata": {},
   "outputs": [],
   "source": [
    "results = []\n",
    "for idx, bug in enumerate(random_bugs):\n",
    "    result = calculateFirstTestFail(idx,bug)\n",
    "    results.append(result)"
   ]
  },
  {
   "cell_type": "code",
   "execution_count": 10,
   "id": "d0a13b1c",
   "metadata": {},
   "outputs": [
    {
     "data": {
      "text/plain": [
       "{'idx': 0,\n",
       " 'project': 'Math',\n",
       " 'bug_id': '95',\n",
       " 'BFC': 'https://github.com/Maes95/commons-math/commit/fbf87122e0f7229892b6dbbf2e211cc46acea008',\n",
       " 'FFC': 'https://github.com/Maes95/commons-math/commit/5145f82217496e6e32ca70d525f69c33260ffd9c',\n",
       " 'FFC_parent_error': 'package junit.swingui does not exist',\n",
       " 'FFC_parent_log': '0-Math-Bug_95.log'}"
      ]
     },
     "execution_count": 10,
     "metadata": {},
     "output_type": "execute_result"
    }
   ],
   "source": [
    "results[0]"
   ]
  },
  {
   "cell_type": "code",
   "execution_count": 11,
   "id": "103ccf56",
   "metadata": {
    "scrolled": false
   },
   "outputs": [],
   "source": [
    "pd.DataFrame.from_dict(results).to_csv('random_bugs_analyzed/100_random_bugs.csv', index=False)  "
   ]
  }
 ],
 "metadata": {
  "kernelspec": {
   "display_name": "Python 3 (ipykernel)",
   "language": "python",
   "name": "python3"
  },
  "language_info": {
   "codemirror_mode": {
    "name": "ipython",
    "version": 3
   },
   "file_extension": ".py",
   "mimetype": "text/x-python",
   "name": "python",
   "nbconvert_exporter": "python",
   "pygments_lexer": "ipython3",
   "version": "3.9.5"
  }
 },
 "nbformat": 4,
 "nbformat_minor": 5
}
