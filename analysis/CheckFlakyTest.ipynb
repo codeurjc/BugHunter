{
 "cells": [
  {
   "cell_type": "code",
   "execution_count": 5,
   "id": "788ac970",
   "metadata": {},
   "outputs": [],
   "source": [
    "import pandas as pd \n",
    "import glob\n",
    "import re\n",
    "import sys\n",
    "import json\n",
    "import concurrent.futures\n",
    "\n",
    "pd.set_option('display.max_rows', 100)\n",
    "root = \"/home/jovyan/work\""
   ]
  },
  {
   "cell_type": "code",
   "execution_count": 7,
   "id": "3ab4bc51",
   "metadata": {},
   "outputs": [],
   "source": [
    "projects = [\n",
    "    \"Time\", \"JacksonXml\", \"Collections\", \"Compress\", \"Csv\", \"JacksonCore\", \"JacksonDatabind\", \n",
    "    \"Jsoup\", \"Lang\", \"Math\",\"Gson\", \"Closure\", \"Mockito\"\n",
    "]\n",
    "for project in projects:\n",
    "    # FOR EACH BUG\n",
    "    for result_path in glob.glob(\"{root}/results/{project}/Bug_*/commits/0-*/result.json\".format(root=root, project=project)):\n",
    "        try:\n",
    "            with open(result_path) as json_file:\n",
    "                result = json.load(json_file)\n",
    "                if result['isFlaky']:\n",
    "                    print(result_path)\n",
    "        except Exception as e:\n",
    "            print(bug_path)\n",
    "            print(e)"
   ]
  }
 ],
 "metadata": {
  "kernelspec": {
   "display_name": "Python 3 (ipykernel)",
   "language": "python",
   "name": "python3"
  },
  "language_info": {
   "codemirror_mode": {
    "name": "ipython",
    "version": 3
   },
   "file_extension": ".py",
   "mimetype": "text/x-python",
   "name": "python",
   "nbconvert_exporter": "python",
   "pygments_lexer": "ipython3",
   "version": "3.10.5"
  }
 },
 "nbformat": 4,
 "nbformat_minor": 5
}
