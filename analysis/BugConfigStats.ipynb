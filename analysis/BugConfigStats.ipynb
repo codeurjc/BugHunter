{
 "cells": [
  {
   "cell_type": "code",
   "execution_count": 1,
   "id": "c7887bfc",
   "metadata": {},
   "outputs": [],
   "source": [
    "import json\n",
    "import glob\n",
    "import re\n",
    "import pandas as pd\n",
    "\n",
    "root=\"/home/jovyan/work\""
   ]
  },
  {
   "cell_type": "markdown",
   "id": "b005d06e",
   "metadata": {},
   "source": [
    "# Bug config stats\n",
    "\n",
    "In this notebook we show the statistics of the fixes used in the configuration files. "
   ]
  },
  {
   "cell_type": "code",
   "execution_count": 4,
   "id": "c82d831a",
   "metadata": {},
   "outputs": [
    {
     "name": "stdout",
     "output_type": "stream",
     "text": [
      "bugs_with_fixes 251\n",
      "using_d4j_build_file 502\n",
      "snapshot_fix 44\n",
      "fix-encoding 144\n",
      "fix_by_rm_test 17\n",
      "fix_aux_class 25\n",
      "projects_using_d4j_build_file 14\n"
     ]
    }
   ],
   "source": [
    "projects = [\n",
    "    \"JacksonXml\", \"Time\", \"Collections\", \"Compress\", \"Csv\", \"JacksonCore\", \"JacksonDatabind\", \"Gson\", \"Jsoup\",\n",
    "    \"Lang\", \"Math\", \"Closure\", \"Mockito\", \"Cli\", \"JxPath\", \"Codec\"\n",
    "]\n",
    "bugs_with_fixes = 0\n",
    "using_d4j_build_file = 0\n",
    "snapshot_fix = 0\n",
    "fix_encoding = 0 + 3 # (Bugs 5,6,&8 of Codec)\n",
    "fix_by_rm_test = 0 + 3 # (Bugs 23,24,26 of JacksonCore)\n",
    "fix_aux_class = 0+3+2+2+1+1 # (Bugs 5,6,&8 of Codec, Bugs 93,94 JacksDatabind, 78, 91 Jsoup, 64 Lang, 26 TIme)\n",
    "projects_using_d4j_build_file = set()\n",
    "for project in projects:\n",
    "    # FOR EACH BUG\n",
    "    for config_path in glob.glob(\"{root}/configFiles/{project}/bugs/Bug_*.json\".format(root=root, project=project)):\n",
    "        with open(config_path) as f:\n",
    "            config_file = json.load(f)\n",
    "            if 'fixes' in config_file:\n",
    "                bugs_with_fixes += 1\n",
    "                \n",
    "                if (\n",
    "                    config_file['fixes'].endswith(\"JacksonDatabind/build_fixes/fix-snapshot-version.sh\") or\n",
    "                    config_file['fixes'].endswith(\"Bug_70/fix-snapshot-version-and-JavaType-method.sh\") or\n",
    "                    config_file['fixes'].endswith(\"Bug_16/fix-snapshot-version-and-fix-reg-test.sh\") or\n",
    "                    config_file['fixes'].endswith(\"JacksonXml/build_fixes/fix-snapshot-version.sh\") or\n",
    "                    config_file['fixes'].endswith(\"JacksonDatabind/build_fixes/fix-snapshot-and-problematic-tests.sh\")\n",
    "                ):\n",
    "                    snapshot_fix += 1\n",
    "                    \n",
    "                if (\n",
    "                    config_file['fixes'].endswith(\"fix-encoding.sh\") or # Closure and Math\n",
    "                    config_file['fixes'].endswith(\"fix-encoding-2.sh\") or\n",
    "                    config_file['fixes'].endswith(\"Cli/build_fixes/fix-build-file.sh\") or\n",
    "                    config_file['fixes'].endswith(\"Cli/build_fixes/Bug_1-2/fix-build-file.sh\") or\n",
    "                    config_file['fixes'].endswith(\"Codec/build_fixes/fix-build-file.sh\") or\n",
    "                    config_file['fixes'].endswith(\"Compress/build_fixes/fix-build-file.sh\") or\n",
    "                    config_file['fixes'].endswith(\"Lang/build_fixes/fix-build-file-old.sh\") or\n",
    "                    config_file['fixes'].endswith(\"Lang/build_fixes/fix-build-file.sh\") or\n",
    "                    config_file['fixes'].endswith(\"build_fixes/Bug_79/fix-bug_79.sh\") or\n",
    "                    config_file['fixes'].endswith(\"Codec/build_fixes/Bug_5/fix.sh\") or\n",
    "                    config_file['fixes'].endswith(\"Codec/build_fixes/Bug_8/fix.sh\")\n",
    "                ):\n",
    "                    fix_encoding += 1\n",
    "                    \n",
    "                if (\n",
    "                    config_file['fixes'].endswith(\"JacksonCore/build_fixes/fix-build-file.sh\") or\n",
    "                    config_file['fixes'].endswith(\"JacksonXml/build_fixes/fix-build-file.sh\") or\n",
    "                    config_file['fixes'].endswith(\"Codec/build_fixes/Bug_5/fix.sh\") or\n",
    "                    config_file['fixes'].endswith(\"Codec/build_fixes/Bug_8/fix.sh\") or\n",
    "                    config_file['fixes'].endswith(\"JacksonCore/build_fixes/fix-build-file.sh\") or\n",
    "                    config_file['fixes'].endswith(\"JacksonDatabind/build_fixes/Bug_94/fix.sh\") or\n",
    "                    config_file['fixes'].endswith(\"JacksonDatabind/build_fixes/Bug_93/fix.sh\") or\n",
    "                    config_file['fixes'].endswith(\"Bug_70/fix-snapshot-version-and-JavaType-method.sh\") or\n",
    "                    config_file['fixes'].endswith(\"Bug_16/fix-snapshot-version-and-fix-reg-test.sh\") or\n",
    "                    config_file['fixes'].endswith(\"JacksonXml/build_fixes/Bug_5/fix-build-file.sh\") or\n",
    "                    config_file['fixes'].endswith(\"JacksonXml/build_fixes/Bug_6/fix-build-file.sh\") or\n",
    "                    config_file['fixes'].endswith(\"Jsoup/build_fixes/Bug_78/fix-build-file.sh\") or\n",
    "                    config_file['fixes'].endswith(\"configFiles/Jsoup/build_fixes/Bug_91/fix.sh\") or\n",
    "                    config_file['fixes'].endswith(\"configFiles/JxPath/build_fixes/Bug_11/fix-bug_11.sh\") or\n",
    "                    config_file['fixes'].endswith(\"configFiles/JxPath/build_fixes/Bug_16/fix-bug_16.sh\") or\n",
    "                    config_file['fixes'].endswith(\"configFiles/JxPath/build_fixes/Bug_17/fix-bug_17.sh\") or\n",
    "                    config_file['fixes'].endswith(\"configFiles/JxPath/build_fixes/Bug_18/fix-bug_18.sh\") or\n",
    "                    config_file['fixes'].endswith(\"configFiles/Lang/build_fixes/Bug_64/fix.sh\")\n",
    "                ):\n",
    "                    fix_aux_class +=1\n",
    "                \n",
    "                \n",
    "                if (\n",
    "                    config_file['fixes'].endswith(\"Codec/build_fixes/fix-build-file.sh\") or\n",
    "                    config_file['fixes'].endswith(\"JacksonCore/build_fixes/Bug_23/fix-build-file.sh\") or\n",
    "                    config_file['fixes'].endswith(\"JacksonCore/build_fixes/Bug_24/fix-build-file.sh\") or\n",
    "                    config_file['fixes'].endswith(\"JacksonCore/build_fixes/Bug_26/fix-build-file.sh\")\n",
    "                ):\n",
    "                    fix_by_rm_test += 1\n",
    "                    \n",
    "            if config_file['build'].startswith(\"ant -Dd4j.project.id\"):\n",
    "                using_d4j_build_file += 1\n",
    "                if config_file['project'] not in projects_using_d4j_build_file:\n",
    "                    projects_using_d4j_build_file.add(config_file['project'])\n",
    "print(\"bugs_with_fixes\",bugs_with_fixes)\n",
    "print(\"using_d4j_build_file\",using_d4j_build_file)\n",
    "print(\"snapshot_fix\",snapshot_fix)\n",
    "print(\"fix-encoding\",fix_encoding)\n",
    "print(\"fix_by_rm_test\",fix_by_rm_test)\n",
    "print(\"fix_aux_class\",fix_aux_class)\n",
    "print(\"projects_using_d4j_build_file\",len(projects_using_d4j_build_file))"
   ]
  }
 ],
 "metadata": {
  "kernelspec": {
   "display_name": "Python 3 (ipykernel)",
   "language": "python",
   "name": "python3"
  },
  "language_info": {
   "codemirror_mode": {
    "name": "ipython",
    "version": 3
   },
   "file_extension": ".py",
   "mimetype": "text/x-python",
   "name": "python",
   "nbconvert_exporter": "python",
   "pygments_lexer": "ipython3",
   "version": "3.9.5"
  }
 },
 "nbformat": 4,
 "nbformat_minor": 5
}
